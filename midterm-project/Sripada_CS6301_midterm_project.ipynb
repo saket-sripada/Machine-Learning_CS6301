{
 "cells": [
  {
   "cell_type": "code",
   "execution_count": 2,
   "metadata": {
    "colab": {},
    "colab_type": "code",
    "id": "OSa5d3cXztel"
   },
   "outputs": [],
   "source": [
    "#Song classification"
   ]
  },
  {
   "cell_type": "code",
   "execution_count": 3,
   "metadata": {
    "colab": {},
    "colab_type": "code",
    "id": "TjBQfmDXKSCl"
   },
   "outputs": [],
   "source": [
    "def visualize(models, param, X, y):\n",
    "  # Initialize plotting\n",
    "  if len(models) % 3 == 0:\n",
    "    nrows = len(models) // 3\n",
    "  else:\n",
    "    nrows = len(models) // 3 + 1\n",
    "    \n",
    "  fig, axes = plt.subplots(nrows=nrows, ncols=3, figsize=(15, 5.0 * nrows))\n",
    "  cmap = ListedColormap(['#b30065', '#178000'])\n",
    "\n",
    "  # Create a mesh\n",
    "  xMin, xMax = X[:, 0].min() - 1, X[:, 0].max() + 1\n",
    "  yMin, yMax = X[:, 1].min() - 1, X[:, 1].max() + 1\n",
    "  xMesh, yMesh = np.meshgrid(np.arange(xMin, xMax, 0.01), \n",
    "                             np.arange(yMin, yMax, 0.01))\n",
    "\n",
    "  for i, (p, clf) in enumerate(models.items()):\n",
    "    # if i > 0:\n",
    "    #   break\n",
    "    r, c = np.divmod(i, 3)\n",
    "    ax = axes[r, c]\n",
    "\n",
    "    # Plot contours\n",
    "    zMesh = clf.decision_function(np.c_[xMesh.ravel(), yMesh.ravel()])\n",
    "    zMesh = zMesh.reshape(xMesh.shape)\n",
    "    ax.contourf(xMesh, yMesh, zMesh, cmap=plt.cm.PiYG, alpha=0.6)\n",
    "\n",
    "    if (param == 'C' and p > 0.0) or (param == 'gamma') or (param == 'd'):\n",
    "      ax.contour(xMesh, yMesh, zMesh, colors='k', levels=[-1, 0, 1], \n",
    "                 alpha=0.5, linestyles=['--', '-', '--'])\n",
    "\n",
    "    # Plot data\n",
    "    ax.scatter(X[:, 0], X[:, 1], c=y, cmap=cmap, edgecolors='k')       \n",
    "    ax.set_title('{0} = {1}'.format(param, p))"
   ]
  },
  {
   "cell_type": "code",
   "execution_count": 4,
   "metadata": {
    "colab": {
     "base_uri": "https://localhost:8080/",
     "height": 661
    },
    "colab_type": "code",
    "id": "FIBlZvXn1SJ0",
    "outputId": "97182ae2-fca5-4674-e328-59c6d31526eb"
   },
   "outputs": [],
   "source": [
    "# Loading the training data\n",
    "#import pandas as pda\n",
    "# Loading feature names\n",
    "#feature_names = pda.read_csv('bb_2000s_train.csv', delimiter=',', dtype='str')[0,3:]\n",
    "#print(feature_names)\n",
    "#M = np.genfromtxt('bb_2000s_train.csv', delimiter=',')\n",
    "#y_trn = M[1:, -1]\n",
    "#X_trn = M[1:, 3:]\n",
    "# Loading the test data\n",
    "#M = np.genfromtxt('bb_2000s_test.csv', delimiter=',')\n",
    "#y_tst = M[1:, -1]\n",
    "#X_tst = M[1:, 3:]\n"
   ]
  },
  {
   "cell_type": "code",
   "execution_count": 5,
   "metadata": {},
   "outputs": [
    {
     "name": "stdout",
     "output_type": "stream",
     "text": [
      "(568, 12)\n"
     ]
    }
   ],
   "source": [
    "# Loading the training data\n",
    "import pandas as pda\n",
    "# Loading feature names\n",
    "train_df = pda.DataFrame(pda.read_csv('bb_2000s_train.csv'))\n",
    "#train_df.head()\n",
    "y = train_df[\"Label\"]\n",
    "#print(y)\n",
    "X = train_df.iloc[:,3:-1]\n",
    "feature_names = X.columns\n",
    "import numpy as np\n",
    "from sklearn.model_selection import train_test_split\n",
    "X_train, X_val, y_train, y_val = train_test_split(X, y, test_size=0.3, random_state=42)\n",
    "print(np.shape(X_val))"
   ]
  },
  {
   "cell_type": "code",
   "execution_count": 6,
   "metadata": {},
   "outputs": [
    {
     "name": "stdout",
     "output_type": "stream",
     "text": [
      "(211, 12)\n"
     ]
    }
   ],
   "source": [
    "# Loading the testing data\n",
    "import pandas as pda\n",
    "X_test_pred = pda.DataFrame(pda.read_csv('bb_2000s_test.csv'))\n",
    "print(np.shape(X_test_pred))"
   ]
  },
  {
   "cell_type": "code",
   "execution_count": 7,
   "metadata": {
    "colab": {},
    "colab_type": "code",
    "id": "FYwHLufA5ptw",
    "scrolled": true
   },
   "outputs": [
    {
     "name": "stderr",
     "output_type": "stream",
     "text": [
      "C:\\Users\\Saket\\Anaconda3\\lib\\site-packages\\sklearn\\preprocessing\\data.py:625: DataConversionWarning: Data with input dtype int64, float64 were all converted to float64 by StandardScaler.\n",
      "  return self.partial_fit(X, y)\n",
      "C:\\Users\\Saket\\Anaconda3\\lib\\site-packages\\sklearn\\base.py:465: DataConversionWarning: Data with input dtype int64, float64 were all converted to float64 by StandardScaler.\n",
      "  return self.fit(X, y, **fit_params).transform(X)\n"
     ]
    },
    {
     "name": "stdout",
     "output_type": "stream",
     "text": [
      "Random Forest\n",
      "Accuracy score: 0.8098591549295775\n",
      "              precision    recall  f1-score   support\n",
      "\n",
      "           0       0.82      0.89      0.86       359\n",
      "           1       0.78      0.67      0.72       209\n",
      "\n",
      "   micro avg       0.81      0.81      0.81       568\n",
      "   macro avg       0.80      0.78      0.79       568\n",
      "weighted avg       0.81      0.81      0.81       568\n",
      "\n",
      "best parameter {'max_depth': 7}\n"
     ]
    },
    {
     "name": "stderr",
     "output_type": "stream",
     "text": [
      "C:\\Users\\Saket\\Anaconda3\\lib\\site-packages\\sklearn\\pipeline.py:331: DataConversionWarning: Data with input dtype int64, float64 were all converted to float64 by StandardScaler.\n",
      "  Xt = transform.transform(Xt)\n",
      "C:\\Users\\Saket\\Anaconda3\\lib\\site-packages\\sklearn\\pipeline.py:331: DataConversionWarning: Data with input dtype int64, float64 were all converted to float64 by StandardScaler.\n",
      "  Xt = transform.transform(Xt)\n"
     ]
    }
   ],
   "source": [
    "# Building pipeline if useful for song prediction\n",
    "import numpy as np\n",
    "from sklearn.preprocessing import StandardScaler\n",
    "#import xgboost as xgb\n",
    "from sklearn.svm import SVC\n",
    "from sklearn.naive_bayes import MultinomialNB\n",
    "from sklearn.linear_model import LogisticRegression\n",
    "from sklearn.tree import DecisionTreeClassifier\n",
    "from sklearn.neighbors import KNeighborsClassifier\n",
    "from sklearn.ensemble import RandomForestClassifier,GradientBoostingClassifier\n",
    "\n",
    "from sklearn.model_selection import GridSearchCV\n",
    "from sklearn.pipeline import Pipeline\n",
    "from sklearn.model_selection import cross_validate\n",
    "from sklearn.model_selection import KFold\n",
    "from statistics import mean\n",
    "from sklearn.ensemble import BaggingClassifier\n",
    "from sklearn.metrics import classification_report, accuracy_score\n",
    "\n",
    "SVparam_grid = [{'kernel': ['rbf'], 'gamma': [0.01,0.1,1],'C': [0.1,1,10,]},\n",
    "                {'kernel': ['linear'], 'C': [0.1,1,10]}]\n",
    "LRparam_grid = [{'C': np.power(10.0, np.arange(-1.0, 2.0, 1.0))}]\n",
    "DTparam_grid = [{'max_depth': np.arange(3, 16, dtype='int')}]\n",
    "kNNparam_grid = [{'n_neighbors': np.arange(3, 16, dtype='int')}]\n",
    "RFparam_grid = [{'max_depth': np.arange(1, 8, dtype='int')}]\n",
    "xGBparam_grid = [{'max_depth': np.arange(1, 18, dtype='int')}]\n",
    "\n",
    "LRpipeline = Pipeline([('transformer', StandardScaler()),\n",
    "                       ('model_selection',GridSearchCV(LogisticRegression(solver='lbfgs'),LRparam_grid, cv=10))])\n",
    "DTpipeline = Pipeline([('transformer', StandardScaler()),\n",
    "                       ('model_selection',GridSearchCV(DecisionTreeClassifier(criterion='entropy'),DTparam_grid, cv=10))]) \n",
    "kNNpipeline= Pipeline([('transformer', StandardScaler()),\n",
    "                       ('model_selection',GridSearchCV(KNeighborsClassifier(),kNNparam_grid, cv=10))])\n",
    "RFpipeline = Pipeline([('transform', StandardScaler()),\n",
    "                       ('model_selection',GridSearchCV(RandomForestClassifier(n_estimators=500),RFparam_grid, cv=5))])\n",
    "SVpipeline = Pipeline([('transformer', StandardScaler()),\n",
    "                       ('model_selection',GridSearchCV(SVC(probability=True),SVparam_grid, cv=10))])\n",
    "\n",
    "NBpipeline = Pipeline([('transformer', StandardScaler()),('model_selection',MultinomialNB())])\n",
    "\n",
    "# create a DMatrix for X_train and X_test\n",
    "#dm_train = xgb.DMatrix(data=X_train, label=y_train)\n",
    "#dm_val = xgb.DMatrix(data=X_val, label=y_val)\n",
    "#params = {'objective' : 'binary:logistic', 'silent': 1}\n",
    "# train the model using the training DMatrix\n",
    "#xg_model = xgb.train(params=params, dtrain=dm_train, num_boost_round=100)#, evals=watch_list)\n",
    "#xGBpipeline = Pipeline([('transform', StandardScaler()),('model_selection',GridSearchCV((),xGBparam_grid, cv=5))])\n",
    "#print('Accuracy Score: {}'.format(accuracy_score(y_val, xg_model.predict(dm_val))))\n",
    "\n",
    "#SV_pline=SVpipeline.fit(X_train, y_train) \n",
    "#kNN_pline=kNNpipeline.fit(X_train, y_train) \n",
    "#LR_pline=LRpipeline.fit(X_train, y_train) \n",
    "#DT_pline=DTpipeline.fit(X_train, y_train)\n",
    "RF_pline=RFpipeline.fit(X_train, y_train) \n",
    "#xGB_pline=RFpipeline.fit(X_train, y_train) \n",
    "\n",
    "#NBpipeline.fit(X_train,y_train)\n",
    "#print(classification_report(y_val, NBpipeline.predict(X_val)))\n",
    "#print('Accuracy score: {}'.format(accuracy_score(y_val, NBpipeline.predict(X_val))))\n",
    "\n",
    "#print(DT_pline.named_steps.model_selection.cv_results_)\n",
    "\n",
    "#DTGSCV_model=DT_pline.named_steps.model_selection.best_estimator_\n",
    "#print(DT_pline.predict(X_test))\n",
    "\n",
    "#print('Suport Vector Machine')\n",
    "#print('Accuracy score: {}'.format(accuracy_score(y_val, SVpipeline.predict(X_val))))\n",
    "#print(classification_report(y_val, SVpipeline.predict(X_val)))\n",
    "#print('best parameter',SV_pline.named_steps.model_selection.best_params_)\n",
    "\n",
    "#print('Decision tree classification report')\n",
    "#print('Accuracy score: {}'.format(accuracy_score(y_val, DTpipeline.predict(X_val))))\n",
    "#print('best parameter',DT_pline.named_steps.model_selection.best_params_)\n",
    "#print(classification_report(y_val, DTpipeline.predict(X_val)))\n",
    "\n",
    "#print('Logistic Regression classification report')\n",
    "#print('Accuracy score: {}'.format(accuracy_score(y_val, LRpipeline.predict(X_val))))\n",
    "#print(classification_report(y_val, LRpipeline.predict(X_val)))\n",
    "#print('best parameter',LR_pline.named_steps.model_selection.best_params_)\n",
    "\n",
    "#print('k-nearest neighbours')\n",
    "#print('Accuracy score: {}'.format(accuracy_score(y_val, kNNpipeline.predict(X_val))))\n",
    "#print(classification_report(y_val, kNNpipeline.predict(X_val)))\n",
    "#print('best parameter',kNN_pline.named_steps.model_selection.best_params_)\n",
    "\n",
    "print('Random Forest')\n",
    "print('Accuracy score: {}'.format(accuracy_score(y_val, RFpipeline.predict(X_val))))\n",
    "print(classification_report(y_val, RFpipeline.predict(X_val)))\n",
    "print('best parameter',RF_pline.named_steps.model_selection.best_params_)\n",
    "\n",
    "#print('Gradient Boost')\n",
    "#print('Accuracy score: {}'.format(accuracy_score(y_val, xGBpipeline.predict(X_val))))\n"
   ]
  },
  {
   "cell_type": "code",
   "execution_count": 26,
   "metadata": {
    "colab": {},
    "colab_type": "code",
    "id": "4ETTJmHb2G3T"
   },
   "outputs": [
    {
     "name": "stdout",
     "output_type": "stream",
     "text": [
      "[1 0 0 0 1 0 0 0 0 1 0 0 1 0 1 0 1 0 1 0 1 0 0 0 0 0 0 0 0 1 0 0 0 0 0 0 0\n",
      " 0 1 0 1 0 0 0 1 0 1 0 1 0 0 1 0 0 1 0 1 0 1 0 1 0 0 1 0 0 0 0 0 1 1 0 0 0\n",
      " 1 1 0 1 0 1 0 0 1 0 0 0 0 0 0 0 0 1 1 0 1 1 0 0 0 0 1 0 0 0 0 0 1 0 0 0 0\n",
      " 0 1 1 0 0 1 0 0 0 1 0 0 0 1 0 0 1 1 0 0 0 0 0 1 1 0 0 0 0 0 0 0 1 0 0 0 0\n",
      " 0 0 1 0 0 0 0 1 0 0 0 0 0 0 1 0 0 0 0 1 1 0 0 0 0 1 0 0 0 0 0 1 0 0 0 0 0\n",
      " 0 0 1 0 0 0 0 0 0 0 0 0 0 0 0 1 1 1 0 0 0 0 1 0 0 1]\n"
     ]
    },
    {
     "name": "stderr",
     "output_type": "stream",
     "text": [
      "D:\\Py\\lib\\site-packages\\sklearn\\pipeline.py:331: DataConversionWarning: Data with input dtype int64, float64 were all converted to float64 by StandardScaler.\n",
      "  Xt = transform.transform(Xt)\n"
     ]
    }
   ],
   "source": [
    "import numpy as np\n",
    "y_test_pred = SVpipeline.predict(X_test_pred)\n",
    "y_final=(y_test_pred).astype(np.int64)\n",
    "print(y_final)\n",
    "np.savetxt('predictions.txt', y_final, fmt='%d', delimiter='\\n', encoding=None)"
   ]
  },
  {
   "cell_type": "code",
   "execution_count": null,
   "metadata": {},
   "outputs": [],
   "source": []
  },
  {
   "cell_type": "code",
   "execution_count": 27,
   "metadata": {
    "colab": {},
    "colab_type": "code",
    "id": "vSMlttox3GTV",
    "scrolled": false
   },
   "outputs": [
    {
     "ename": "FileNotFoundError",
     "evalue": "[Errno 2] No such file or directory: 'tree.png'",
     "output_type": "error",
     "traceback": [
      "\u001b[1;31m---------------------------------------------------------------------------\u001b[0m",
      "\u001b[1;31mFileNotFoundError\u001b[0m                         Traceback (most recent call last)",
      "\u001b[1;32m<ipython-input-27-e979be2f71e9>\u001b[0m in \u001b[0;36m<module>\u001b[1;34m\u001b[0m\n\u001b[0;32m     12\u001b[0m \u001b[0mexport_graphviz\u001b[0m\u001b[1;33m(\u001b[0m\u001b[0mDTGSCV_model\u001b[0m\u001b[1;33m)\u001b[0m\u001b[1;33m\u001b[0m\u001b[1;33m\u001b[0m\u001b[0m\n\u001b[0;32m     13\u001b[0m \u001b[0mcall\u001b[0m\u001b[1;33m(\u001b[0m\u001b[1;33m[\u001b[0m\u001b[1;34m'dot'\u001b[0m\u001b[1;33m,\u001b[0m \u001b[1;34m'-Tpng'\u001b[0m\u001b[1;33m,\u001b[0m \u001b[1;34m'tree.dot'\u001b[0m\u001b[1;33m,\u001b[0m \u001b[1;34m'-o'\u001b[0m\u001b[1;33m,\u001b[0m \u001b[1;34m'tree.png'\u001b[0m\u001b[1;33m,\u001b[0m \u001b[1;34m'-Gdpi=150'\u001b[0m\u001b[1;33m]\u001b[0m\u001b[1;33m)\u001b[0m\u001b[1;33m\u001b[0m\u001b[1;33m\u001b[0m\u001b[0m\n\u001b[1;32m---> 14\u001b[1;33m \u001b[0mImage\u001b[0m\u001b[1;33m(\u001b[0m\u001b[0mfilename\u001b[0m\u001b[1;33m=\u001b[0m\u001b[1;34m'tree.png'\u001b[0m\u001b[1;33m)\u001b[0m\u001b[1;33m\u001b[0m\u001b[1;33m\u001b[0m\u001b[0m\n\u001b[0m",
      "\u001b[1;32mD:\\Py\\lib\\site-packages\\IPython\\core\\display.py\u001b[0m in \u001b[0;36m__init__\u001b[1;34m(self, data, url, filename, format, embed, width, height, retina, unconfined, metadata)\u001b[0m\n\u001b[0;32m   1184\u001b[0m         \u001b[0mself\u001b[0m\u001b[1;33m.\u001b[0m\u001b[0munconfined\u001b[0m \u001b[1;33m=\u001b[0m \u001b[0munconfined\u001b[0m\u001b[1;33m\u001b[0m\u001b[1;33m\u001b[0m\u001b[0m\n\u001b[0;32m   1185\u001b[0m         super(Image, self).__init__(data=data, url=url, filename=filename, \n\u001b[1;32m-> 1186\u001b[1;33m                 metadata=metadata)\n\u001b[0m\u001b[0;32m   1187\u001b[0m \u001b[1;33m\u001b[0m\u001b[0m\n\u001b[0;32m   1188\u001b[0m         \u001b[1;32mif\u001b[0m \u001b[0mself\u001b[0m\u001b[1;33m.\u001b[0m\u001b[0mwidth\u001b[0m \u001b[1;32mis\u001b[0m \u001b[1;32mNone\u001b[0m \u001b[1;32mand\u001b[0m \u001b[0mself\u001b[0m\u001b[1;33m.\u001b[0m\u001b[0mmetadata\u001b[0m\u001b[1;33m.\u001b[0m\u001b[0mget\u001b[0m\u001b[1;33m(\u001b[0m\u001b[1;34m'width'\u001b[0m\u001b[1;33m,\u001b[0m \u001b[1;33m{\u001b[0m\u001b[1;33m}\u001b[0m\u001b[1;33m)\u001b[0m\u001b[1;33m:\u001b[0m\u001b[1;33m\u001b[0m\u001b[1;33m\u001b[0m\u001b[0m\n",
      "\u001b[1;32mD:\\Py\\lib\\site-packages\\IPython\\core\\display.py\u001b[0m in \u001b[0;36m__init__\u001b[1;34m(self, data, url, filename, metadata)\u001b[0m\n\u001b[0;32m    613\u001b[0m             \u001b[0mself\u001b[0m\u001b[1;33m.\u001b[0m\u001b[0mmetadata\u001b[0m \u001b[1;33m=\u001b[0m \u001b[1;33m{\u001b[0m\u001b[1;33m}\u001b[0m\u001b[1;33m\u001b[0m\u001b[1;33m\u001b[0m\u001b[0m\n\u001b[0;32m    614\u001b[0m \u001b[1;33m\u001b[0m\u001b[0m\n\u001b[1;32m--> 615\u001b[1;33m         \u001b[0mself\u001b[0m\u001b[1;33m.\u001b[0m\u001b[0mreload\u001b[0m\u001b[1;33m(\u001b[0m\u001b[1;33m)\u001b[0m\u001b[1;33m\u001b[0m\u001b[1;33m\u001b[0m\u001b[0m\n\u001b[0m\u001b[0;32m    616\u001b[0m         \u001b[0mself\u001b[0m\u001b[1;33m.\u001b[0m\u001b[0m_check_data\u001b[0m\u001b[1;33m(\u001b[0m\u001b[1;33m)\u001b[0m\u001b[1;33m\u001b[0m\u001b[1;33m\u001b[0m\u001b[0m\n\u001b[0;32m    617\u001b[0m \u001b[1;33m\u001b[0m\u001b[0m\n",
      "\u001b[1;32mD:\\Py\\lib\\site-packages\\IPython\\core\\display.py\u001b[0m in \u001b[0;36mreload\u001b[1;34m(self)\u001b[0m\n\u001b[0;32m   1215\u001b[0m         \u001b[1;34m\"\"\"Reload the raw data from file or URL.\"\"\"\u001b[0m\u001b[1;33m\u001b[0m\u001b[1;33m\u001b[0m\u001b[0m\n\u001b[0;32m   1216\u001b[0m         \u001b[1;32mif\u001b[0m \u001b[0mself\u001b[0m\u001b[1;33m.\u001b[0m\u001b[0membed\u001b[0m\u001b[1;33m:\u001b[0m\u001b[1;33m\u001b[0m\u001b[1;33m\u001b[0m\u001b[0m\n\u001b[1;32m-> 1217\u001b[1;33m             \u001b[0msuper\u001b[0m\u001b[1;33m(\u001b[0m\u001b[0mImage\u001b[0m\u001b[1;33m,\u001b[0m\u001b[0mself\u001b[0m\u001b[1;33m)\u001b[0m\u001b[1;33m.\u001b[0m\u001b[0mreload\u001b[0m\u001b[1;33m(\u001b[0m\u001b[1;33m)\u001b[0m\u001b[1;33m\u001b[0m\u001b[1;33m\u001b[0m\u001b[0m\n\u001b[0m\u001b[0;32m   1218\u001b[0m             \u001b[1;32mif\u001b[0m \u001b[0mself\u001b[0m\u001b[1;33m.\u001b[0m\u001b[0mretina\u001b[0m\u001b[1;33m:\u001b[0m\u001b[1;33m\u001b[0m\u001b[1;33m\u001b[0m\u001b[0m\n\u001b[0;32m   1219\u001b[0m                 \u001b[0mself\u001b[0m\u001b[1;33m.\u001b[0m\u001b[0m_retina_shape\u001b[0m\u001b[1;33m(\u001b[0m\u001b[1;33m)\u001b[0m\u001b[1;33m\u001b[0m\u001b[1;33m\u001b[0m\u001b[0m\n",
      "\u001b[1;32mD:\\Py\\lib\\site-packages\\IPython\\core\\display.py\u001b[0m in \u001b[0;36mreload\u001b[1;34m(self)\u001b[0m\n\u001b[0;32m    638\u001b[0m         \u001b[1;34m\"\"\"Reload the raw data from file or URL.\"\"\"\u001b[0m\u001b[1;33m\u001b[0m\u001b[1;33m\u001b[0m\u001b[0m\n\u001b[0;32m    639\u001b[0m         \u001b[1;32mif\u001b[0m \u001b[0mself\u001b[0m\u001b[1;33m.\u001b[0m\u001b[0mfilename\u001b[0m \u001b[1;32mis\u001b[0m \u001b[1;32mnot\u001b[0m \u001b[1;32mNone\u001b[0m\u001b[1;33m:\u001b[0m\u001b[1;33m\u001b[0m\u001b[1;33m\u001b[0m\u001b[0m\n\u001b[1;32m--> 640\u001b[1;33m             \u001b[1;32mwith\u001b[0m \u001b[0mopen\u001b[0m\u001b[1;33m(\u001b[0m\u001b[0mself\u001b[0m\u001b[1;33m.\u001b[0m\u001b[0mfilename\u001b[0m\u001b[1;33m,\u001b[0m \u001b[0mself\u001b[0m\u001b[1;33m.\u001b[0m\u001b[0m_read_flags\u001b[0m\u001b[1;33m)\u001b[0m \u001b[1;32mas\u001b[0m \u001b[0mf\u001b[0m\u001b[1;33m:\u001b[0m\u001b[1;33m\u001b[0m\u001b[1;33m\u001b[0m\u001b[0m\n\u001b[0m\u001b[0;32m    641\u001b[0m                 \u001b[0mself\u001b[0m\u001b[1;33m.\u001b[0m\u001b[0mdata\u001b[0m \u001b[1;33m=\u001b[0m \u001b[0mf\u001b[0m\u001b[1;33m.\u001b[0m\u001b[0mread\u001b[0m\u001b[1;33m(\u001b[0m\u001b[1;33m)\u001b[0m\u001b[1;33m\u001b[0m\u001b[1;33m\u001b[0m\u001b[0m\n\u001b[0;32m    642\u001b[0m         \u001b[1;32melif\u001b[0m \u001b[0mself\u001b[0m\u001b[1;33m.\u001b[0m\u001b[0murl\u001b[0m \u001b[1;32mis\u001b[0m \u001b[1;32mnot\u001b[0m \u001b[1;32mNone\u001b[0m\u001b[1;33m:\u001b[0m\u001b[1;33m\u001b[0m\u001b[1;33m\u001b[0m\u001b[0m\n",
      "\u001b[1;31mFileNotFoundError\u001b[0m: [Errno 2] No such file or directory: 'tree.png'"
     ]
    }
   ],
   "source": [
    "#Tree visualisation\n",
    "import os\n",
    "os.environ[\"PATH\"] += os.pathsep + 'C:/Program Files (x86)/WinGraphviz'\n",
    "\n",
    "#\n",
    "# DO NOT EDIT CODE BELOW\n",
    "#\n",
    "from sklearn.tree import export_graphviz\n",
    "from subprocess import call\n",
    "from IPython.display import Image\n",
    "\n",
    "export_graphviz(DTGSCV_model)\n",
    "call(['dot', '-Tpng', 'tree.dot', '-o', 'tree.png', '-Gdpi=150'])\n",
    "Image(filename='tree.png')"
   ]
  },
  {
   "cell_type": "code",
   "execution_count": 20,
   "metadata": {
    "colab": {},
    "colab_type": "code",
    "id": "10EBdnUJ3NmA"
   },
   "outputs": [
    {
     "name": "stderr",
     "output_type": "stream",
     "text": [
      "D:\\Py\\lib\\site-packages\\sklearn\\pipeline.py:381: DataConversionWarning: Data with input dtype int64, float64 were all converted to float64 by StandardScaler.\n",
      "  Xt = transform.transform(Xt)\n",
      "D:\\Py\\lib\\site-packages\\sklearn\\pipeline.py:381: DataConversionWarning: Data with input dtype int64, float64 were all converted to float64 by StandardScaler.\n",
      "  Xt = transform.transform(Xt)\n",
      "D:\\Py\\lib\\site-packages\\sklearn\\pipeline.py:381: DataConversionWarning: Data with input dtype int64, float64 were all converted to float64 by StandardScaler.\n",
      "  Xt = transform.transform(Xt)\n",
      "D:\\Py\\lib\\site-packages\\sklearn\\pipeline.py:381: DataConversionWarning: Data with input dtype int64, float64 were all converted to float64 by StandardScaler.\n",
      "  Xt = transform.transform(Xt)\n",
      "D:\\Py\\lib\\site-packages\\sklearn\\pipeline.py:381: DataConversionWarning: Data with input dtype int64, float64 were all converted to float64 by StandardScaler.\n",
      "  Xt = transform.transform(Xt)\n",
      "D:\\Py\\lib\\site-packages\\sklearn\\pipeline.py:381: DataConversionWarning: Data with input dtype int64, float64 were all converted to float64 by StandardScaler.\n",
      "  Xt = transform.transform(Xt)\n",
      "D:\\Py\\lib\\site-packages\\sklearn\\pipeline.py:381: DataConversionWarning: Data with input dtype int64, float64 were all converted to float64 by StandardScaler.\n",
      "  Xt = transform.transform(Xt)\n",
      "D:\\Py\\lib\\site-packages\\sklearn\\pipeline.py:381: DataConversionWarning: Data with input dtype int64, float64 were all converted to float64 by StandardScaler.\n",
      "  Xt = transform.transform(Xt)\n",
      "D:\\Py\\lib\\site-packages\\sklearn\\pipeline.py:381: DataConversionWarning: Data with input dtype int64, float64 were all converted to float64 by StandardScaler.\n",
      "  Xt = transform.transform(Xt)\n"
     ]
    },
    {
     "data": {
      "image/png": "[encoded data removed]",
      "text/plain": [
       "<Figure size 432x288 with 1 Axes>"
      ]
     },
     "metadata": {
      "needs_background": "light"
     },
     "output_type": "display_data"
    }
   ],
   "source": [
    "import numpy as np\n",
    "import matplotlib.pyplot as plt\n",
    "from sklearn.metrics import roc_curve,roc_auc_score,auc\n",
    "LR_auroc=roc_auc_score(y_val,LRpipeline.predict_proba(X_val)[:,1])\n",
    "RF_auroc=roc_auc_score(y_val,LRpipeline.predict_proba(X_val)[:,1])\n",
    "#GB_auroc=roc_auc_score(y_val,LRpipeline.predict_proba(X_val)[:,1])\n",
    "NB_auroc=roc_auc_score(y_val,NBpipeline.predict_proba(X_val)[:,1])\n",
    "DT_auroc=roc_auc_score(y_val,DTpipeline.predict_proba(X_val)[:,1])\n",
    "kNN_auroc=roc_auc_score(y_val,kNNpipeline.predict_proba(X_val)[:,1])\n",
    "SV_auroc=roc_auc_score(y_val,SVpipeline.predict_proba(X_val)[:,1])\n",
    "LR_fpr = dict()\n",
    "LR_tpr = dict()\n",
    "#RF_fpr = dict()\n",
    "#RF_tpr = dict()\n",
    "#GB_fpr = dict()\n",
    "#GB_tpr = dict()\n",
    "kNN_fpr = dict()\n",
    "kNN_tpr = dict()\n",
    "SV_fpr = dict()\n",
    "SV_tpr = dict()\n",
    "DT_fpr = dict()\n",
    "DT_tpr = dict()\n",
    "#RF_roc_auc = dict()\n",
    "#GB_roc_auc = dict()\n",
    "DT_roc_auc = dict()\n",
    "LR_roc_auc = dict()\n",
    "kNN_roc_auc = dict()\n",
    "SV_roc_auc = dict()\n",
    "#RF_pp=LRpipeline.predict(X_val)[:,1]\n",
    "#GB_pp=LRpipeline.predict(X_val)[:,1]\n",
    "LR_pp=LRpipeline.predict_proba(X_val)[:,1]\n",
    "DT_pp=DTpipeline.predict_proba(X_val)[:,1]\n",
    "kNN_pp=kNNpipeline.predict_proba(X_val)[:,1]\n",
    "SV_pp=SVpipeline.predict_proba(X_val)[:,1]\n",
    "\n",
    "SV_fpr[1], SV_tpr[1],thresholds = roc_curve(y_val, SV_pp)\n",
    "SV_roc_auc[1] = auc(SV_fpr[1], SV_tpr[1])\n",
    "\n",
    "kNN_fpr[1], kNN_tpr[1],thresholds = roc_curve(y_val, kNN_pp)\n",
    "kNN_roc_auc[1] = auc(kNN_fpr[1], kNN_tpr[1])\n",
    "\n",
    "#RF_fpr[1], RF_tpr[1],thresholds = roc_curve(y_val, RF_pp)\n",
    "#RF_roc_auc[1] = auc(RF_fpr[1], RF_tpr[1])\n",
    "\n",
    "#GB_fpr[1], GB_tpr[1],thresholds = roc_curve(y_val, GB_pp)\n",
    "#GB_roc_auc[1] = auc(GB_fpr[1], GB_tpr[1])\n",
    "\n",
    "LR_fpr[1], LR_tpr[1],thresholds = roc_curve(y_val, LR_pp)\n",
    "LR_roc_auc[1] = auc(LR_fpr[1], LR_tpr[1])\n",
    "\n",
    "DT_fpr[1], DT_tpr[1],thresholds = roc_curve(y_val, DT_pp)\n",
    "DT_roc_auc[1] = auc(DT_fpr[1], DT_tpr[1])\n",
    "\n",
    "\n",
    "#The following plotting script was taken from the scikitlearn's ROC documentation\n",
    "plt.figure()\n",
    "lw = 2\n",
    "plt.plot(DT_fpr[1],DT_tpr[1], color='violet',lw=lw, label='DT-ROC curve (area = %0.5f)' % DT_roc_auc[1])\n",
    "#plt.plot(RF_fpr[1],RF_tpr[1], color='red',lw=lw, label='RF-ROC curve (area = %0.5f)' % RF_roc_auc[1])\n",
    "#plt.plot(GB_fpr[1],GB_tpr[1], color='blue',lw=lw, label='GB-ROC curve (area = %0.5f)' % GB_roc_auc[1])\n",
    "plt.plot(kNN_fpr[1],kNN_tpr[1], color='green',lw=lw, label='kNN-ROC curve (area = %0.5f)' % kNN_roc_auc[1])\n",
    "plt.plot(SV_fpr[1],SV_tpr[1], color='blue',lw=lw, label='SV-ROC curve (area = %0.5f)' % SV_roc_auc[1])\n",
    "plt.plot(LR_fpr[1],LR_tpr[1], color='orange',lw=lw, label='LR-ROC curve (area = %0.5f)' % LR_roc_auc[1])\n",
    "\n",
    "plt.plot([0, 1], [0, 1], color='navy', lw=lw, linestyle='--')\n",
    "plt.xlim([-0.05, 1.0])\n",
    "plt.ylim([0.0, 1.05])\n",
    "plt.xlabel('False Positive Rate')\n",
    "plt.ylabel('True Positive Rate')\n",
    "plt.title('Comparing performance of DT vs LR vs kNN vs SVM')\n",
    "plt.legend(loc=\"lower right\")\n",
    "plt.show()\n"
   ]
  },
  {
   "cell_type": "code",
   "execution_count": null,
   "metadata": {},
   "outputs": [],
   "source": [
    "from sklearn.decomposition import PCA\n",
    "pca = PCA(n_components=2).fit(X_train)"
   ]
  }
 ],
 "metadata": {
  "colab": {
   "name": "Sripada_CS6301_midterm-project.ipynb",
   "provenance": [],
   "version": "0.3.2"
  },
  "kernelspec": {
   "display_name": "Python 3",
   "language": "python",
   "name": "python3"
  },
  "language_info": {
   "codemirror_mode": {
    "name": "ipython",
    "version": 3
   },
   "file_extension": ".py",
   "mimetype": "text/x-python",
   "name": "python",
   "nbconvert_exporter": "python",
   "pygments_lexer": "ipython3",
   "version": "3.7.1"
  }
 },
 "nbformat": 4,
 "nbformat_minor": 1
}
